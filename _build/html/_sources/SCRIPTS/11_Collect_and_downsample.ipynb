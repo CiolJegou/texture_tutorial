{
 "cells": [
  {
   "cell_type": "markdown",
   "id": "ab05a1ee-db72-4b90-874c-95bfa2d0a0d7",
   "metadata": {},
   "source": [
    "# 2 - Collect and downsamples"
   ]
  },
  {
   "cell_type": "code",
   "execution_count": 2,
   "id": "a6fec8f4-9d7b-43da-baa3-02f9e6949074",
   "metadata": {
    "tags": []
   },
   "outputs": [],
   "source": [
    "import numpy as np\n",
    "import matplotlib.pyplot as plt\n",
    "import os\n",
    "from scipy import signal\n",
    "import pickle\n",
    "from utils import *\n",
    "import h5py\n",
    "from tqdm import tqdm\n"
   ]
  },
  {
   "cell_type": "markdown",
   "id": "43e9c81d-aa64-4c83-86ab-bc726e521a44",
   "metadata": {},
   "source": [
    "### Parameters of the experiment"
   ]
  },
  {
   "cell_type": "code",
   "execution_count": 3,
   "id": "4788e61e-6aff-4b21-8c2a-d076fb04379e",
   "metadata": {
    "tags": []
   },
   "outputs": [],
   "source": [
    "experiment_number = 'ma6795'\n",
    "experiment_date = '20250826'\n",
    "detector = 'eiger'\n",
    "number_of_rotations = 1800\n",
    "sample = 'textom_posth14_post_beamdown'\n",
    "\n",
    "#Loading all samples of the dataset\n",
    "dataset_list = [f'z{z_index}_redo' for z_index in range(3)]\n",
    "\n",
    "# Path towards the integrated intensities\n",
    "path_intensities = f'/data/visitor/{experiment_number}/id11/{experiment_date}/PROCESSED_DATA/integrated_intensities/{sample}/{sample}_{dataset_list[0]}/'\n",
    "\n",
    "files = [f for f in os.listdir(path_intensities) if '.h5' in f]\n",
    "number_of_positions = len(files)\n",
    "number_of_slizes = len(dataset_list)\n",
    "\n",
    "# Reloading the integration parameters\n",
    "path_texture = 'auxillary_files/'\n",
    "with open(path_texture + 'phase_data.npy', 'rb') as fid:\n",
    "    phase_data = pickle.load(fid)\n",
    "with open(path_texture + 'integration_metadata.npy', 'rb') as fid:\n",
    "    integ_metadata = pickle.load(fid)\n",
    "\n",
    "npt_azim = integ_metadata['npt_azim']\n",
    "n_hkl = len(phase_data['hkl_list'])\n"
   ]
  },
  {
   "cell_type": "markdown",
   "id": "4f545a69-d48f-456f-9a13-811e5c548234",
   "metadata": {},
   "source": [
    "## Downsample the data"
   ]
  },
  {
   "cell_type": "markdown",
   "id": "b48bd747-d76f-47da-a0e1-d8800794fe6f",
   "metadata": {},
   "source": [
    "The texture tomography algorithm will diverge if the number of rotations and the number of dty steps are not close enough. <br />\n",
    "Thus, it is important to downsample the dataset to get the same magnitude. <br />\n",
    "Downsampling is also interesting to speed up the whole process.\n",
    "+ **bin_factor_rot**: binning factor in the omega rotation,\n",
    "+ **bin_factor_dty**: binning factor in the dty translation\n",
    "+ **bin_factor_azim**: binning factor in the azimuthal integration"
   ]
  },
  {
   "cell_type": "code",
   "execution_count": 4,
   "id": "c8e2e345-8b1a-4a66-92ae-82c378e14cc7",
   "metadata": {
    "tags": []
   },
   "outputs": [],
   "source": [
    "bin_factor_rot = 10\n",
    "bin_factor_dty = 1\n",
    "bin_factor_azim = 2"
   ]
  },
  {
   "cell_type": "code",
   "execution_count": 5,
   "id": "34a23f2e-6415-4fb4-b056-331a6675fa64",
   "metadata": {
    "tags": []
   },
   "outputs": [
    {
     "name": "stdout",
     "output_type": "stream",
     "text": [
      "Initial shape : (1800,105,3,1800,9)\n",
      "Downsampled shape : (180,105,3,900,9)\n"
     ]
    }
   ],
   "source": [
    "print('Initial shape : ({},{},{},{},{})'.format(number_of_rotations, number_of_positions, number_of_slizes, npt_azim, n_hkl))\n",
    "print('Downsampled shape : ({},{},{},{},{})'.format(number_of_rotations//bin_factor_rot, number_of_positions//bin_factor_dty, number_of_slizes,\n",
    "                                              npt_azim//bin_factor_azim, n_hkl))\n",
    "#tips : N_rot and N_dty should be of the same order ~ to assure a convergence"
   ]
  },
  {
   "cell_type": "markdown",
   "id": "d12d00a8-49a9-41e5-bc93-87092f416335",
   "metadata": {},
   "source": [
    "+ **f0** : allocate memory to load the full sinogram in memory\n",
    "+ **full_data_array** : numpy array of shape `(number_of_rotations, number_of_positions,number_of_slizes,npt_azim, n_hkl)`"
   ]
  },
  {
   "cell_type": "code",
   "execution_count": null,
   "id": "9fead5a8-239d-4586-b156-9b49e93c724c",
   "metadata": {
    "tags": []
   },
   "outputs": [
    {
     "name": "stdout",
     "output_type": "stream",
     "text": [
      "Downsampling rotation : (180, 105, 3, 1800, 9)\n",
      "Downsampling translations : (180, 105, 3, 1800, 9)\n",
      "Downsampling azimuthal bins : (180, 105, 3, 900, 9)\n"
     ]
    },
    {
     "name": "stderr",
     "output_type": "stream",
     "text": [
      " 33%|███▎      | 1/3 [00:43<01:27, 43.65s/it]"
     ]
    }
   ],
   "source": [
    "f0 = np.zeros((number_of_rotations, number_of_positions,number_of_slizes,npt_azim, n_hkl))\n",
    "\n",
    "#First we load all dty steps to ensure we collected the data correctly, and then we downsample in dty direction\n",
    "full_data_array = downsample(f0, bin_factor_rot = bin_factor_rot, bin_factor_dty = 1,\n",
    "                             bin_factor_azim = bin_factor_azim)\n",
    "\n",
    "for z_index in tqdm(range(number_of_slizes)):\n",
    "\n",
    "    path_intensities = f'/data/visitor/{experiment_number}/id11/{experiment_date}/PROCESSED_DATA/integrated_intensities/{sample}/{sample}_{dataset_list[z_index]}/'\n",
    "    for position_index in range(number_of_positions):\n",
    "        \n",
    "        output_filename = path_intensities + f'/scan{position_index+1:04d}.h5'\n",
    "        with h5py.File(output_filename, 'r') as file:\n",
    "            image = file[f'pos_{position_index}/intensity'][:,0,:,:]\n",
    "            full_data_array[:, position_index,z_index, :, :] = downsample_image(image, bin_factor_rot = bin_factor_rot, \n",
    "                                                                          bin_factor_azim = bin_factor_azim, verbose = False)"
   ]
  },
  {
   "cell_type": "markdown",
   "id": "87f087b6-d11d-4e93-8417-89aaf028dd35",
   "metadata": {},
   "source": [
    "Because the scan is from 0 to 180 and from 180 to 0, every second line should be flipped."
   ]
  },
  {
   "cell_type": "code",
   "execution_count": null,
   "id": "daddbc66-87ce-4e29-8978-dc64c2260d0e",
   "metadata": {
    "tags": []
   },
   "outputs": [],
   "source": [
    "full_data_array[:, 1::2,:, :, :] = full_data_array[::-1, 1::2,:, :, :]"
   ]
  },
  {
   "cell_type": "markdown",
   "id": "3afb18eb-4af7-4631-be3d-cd71d622d7f7",
   "metadata": {},
   "source": [
    "+ **gap_mask**: mask of the detector for the pyfai integration"
   ]
  },
  {
   "cell_type": "code",
   "execution_count": null,
   "id": "e6597122-8f8f-4b56-b321-bdd1751c01bc",
   "metadata": {
    "tags": []
   },
   "outputs": [],
   "source": [
    "gap_mask = np.stack(phase_data['azimuthal_masks'], axis = -1)\n",
    "print('Shape of gap_mask : (npt_azim, n_hkl) = {}'.format(gap_mask.shape))\n",
    "print('Shape of the full data array : {}'.format(full_data_array.shape))"
   ]
  },
  {
   "cell_type": "markdown",
   "id": "bd2a47fd-97a2-4431-9fcb-5bd9837b067b",
   "metadata": {},
   "source": [
    "Make the gap mask the same size as the input sinogram"
   ]
  },
  {
   "cell_type": "code",
   "execution_count": null,
   "id": "d9e12bb9-354d-494a-8973-b521204b1db1",
   "metadata": {
    "tags": []
   },
   "outputs": [],
   "source": [
    "gap_mask = np.all(gap_mask.reshape((gap_mask.shape[0]//bin_factor_azim, bin_factor_azim, gap_mask.shape[1])), axis = 1)\n",
    "full_data_array[:,:,:,~gap_mask] = 0\n",
    "full_data_array=np.where(full_data_array>1e6,1e6,full_data_array)\n",
    "#save the gap mask for weigths in next step \n",
    "np.save('auxillary_files/gap_mask.npy',gap_mask)"
   ]
  },
  {
   "cell_type": "markdown",
   "id": "5a7d5416-b3f0-41de-a827-8d0c6fbb3a82",
   "metadata": {},
   "source": [
    "Sometimes, some very bright pixels appear on the detector, these are known as hot pixels. There value is ~10^9 because the detector is saturated. <br />\n",
    "We want to keep them, but tune their intensity so they do not mess with the rest of the diffraction signal."
   ]
  },
  {
   "cell_type": "code",
   "execution_count": null,
   "id": "25321d63-2454-4f8d-9241-6aeb61031e1b",
   "metadata": {
    "tags": []
   },
   "outputs": [],
   "source": [
    "hot_pix_mask=full_data_array>1e5\n",
    "full_data_array[hot_pix_mask]=1e4"
   ]
  },
  {
   "cell_type": "code",
   "execution_count": null,
   "id": "fcfafae3-1736-4962-b6ca-0e6bb69121d3",
   "metadata": {
    "tags": []
   },
   "outputs": [],
   "source": [
    "full_data_array.shape"
   ]
  },
  {
   "cell_type": "markdown",
   "id": "72c302fd-f9b9-4665-bb71-aa23c1029654",
   "metadata": {},
   "source": [
    "## Diagnostic plots"
   ]
  },
  {
   "cell_type": "markdown",
   "id": "b0f7aa61-61ce-4361-9d4a-5470f55deb4f",
   "metadata": {},
   "source": [
    "We plot the sinograms of all the integrated signal : \n",
    "+ over all azimuthal angles\n",
    "+ at 0 degree, where peaks comes and go, so the signal should be spotty\n",
    "+ at 90 degrees, where peaks tend to stay during the full rotation of the sample, so streaks should appear."
   ]
  },
  {
   "cell_type": "code",
   "execution_count": null,
   "id": "811467ff-df63-46e7-9aea-fcf22882dc6f",
   "metadata": {
    "tags": []
   },
   "outputs": [],
   "source": [
    "# %matplotlib widget\n",
    "vmin = 1e2\n",
    "vmax = 3e6\n",
    "\n",
    "fig, axs = plt.subplots(2,3,figsize = (12, 12))\n",
    "axs[0,0].set_title('Sum over all azim/hkls')\n",
    "axs[0,0].imshow(np.sum(full_data_array[:, :, 0, :, :], axis = (2,3)), vmin = vmin, vmax = vmax)\n",
    "axs[0,0].set_ylabel('First slice')\n",
    "\n",
    "axs[0,1].set_title(f'0 deg (horizontal)')\n",
    "axs[0,1].imshow(np.sum(full_data_array[:, :, 0, 0:1, :], axis = (2,3)), vmin = vmin)\n",
    "\n",
    "axs[0,2].set_title('90 deg (vertical)')\n",
    "axs[0,2].imshow(np.sum(full_data_array[:, :, 0, npt_azim//bin_factor_azim//4:npt_azim//bin_factor_azim//4+1, :], axis = (2,3)), vmin = vmin)\n",
    "\n",
    "# axs[1,0].set_title('Sum over all azim/hkls')\n",
    "axs[1,0].imshow(np.sum(full_data_array[:, :, number_of_slizes-1, :, :], axis = (2,3)), vmin = vmin, vmax = vmax)\n",
    "axs[1,0].set_ylabel('Last slice')\n",
    "\n",
    "# axs[1,1].set_title(f'0 deg (horizontal)')\n",
    "axs[1,1].imshow(np.sum(full_data_array[:, :, number_of_slizes-1, 0:1, :], axis = (2,3)), vmin = vmin)\n",
    "\n",
    "# axs[1,2].set_title('90 deg (vertical)')\n",
    "axs[1,2].imshow(np.sum(full_data_array[:, :, number_of_slizes-1, npt_azim//bin_factor_azim//4:npt_azim//bin_factor_azim//4+1, :], axis = (2,3)), vmin = vmin)\n",
    "\n",
    "plt.show()"
   ]
  },
  {
   "cell_type": "markdown",
   "id": "e1459084-2e24-4952-ac87-0ab5fbe61981",
   "metadata": {},
   "source": [
    "## Save sinogram"
   ]
  },
  {
   "cell_type": "code",
   "execution_count": null,
   "id": "459f7875-ca02-4377-ac84-f2b5a7371c43",
   "metadata": {
    "tags": []
   },
   "outputs": [],
   "source": [
    "fname = f'auxillary_files/{sample}_full_data_array.npy'\n",
    "np.save(fname, full_data_array)\n",
    "#Clear memory\n",
    "del full_data_array"
   ]
  },
  {
   "cell_type": "code",
   "execution_count": null,
   "id": "2544946c-0850-452d-ae79-c27cf4a345e7",
   "metadata": {},
   "outputs": [],
   "source": [
    "fname"
   ]
  }
 ],
 "metadata": {
  "kernelspec": {
   "display_name": "Python 3 (main)",
   "language": "python",
   "name": "python3"
  },
  "language_info": {
   "codemirror_mode": {
    "name": "ipython",
    "version": 3
   },
   "file_extension": ".py",
   "mimetype": "text/x-python",
   "name": "python",
   "nbconvert_exporter": "python",
   "pygments_lexer": "ipython3",
   "version": "3.12.9"
  },
  "widgets": {
   "application/vnd.jupyter.widget-state+json": {
    "state": {},
    "version_major": 2,
    "version_minor": 0
   }
  }
 },
 "nbformat": 4,
 "nbformat_minor": 5
}
